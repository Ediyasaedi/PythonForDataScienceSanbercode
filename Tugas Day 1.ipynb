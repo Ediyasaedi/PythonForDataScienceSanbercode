{
 "cells": [
  {
   "cell_type": "markdown",
   "metadata": {},
   "source": [
    "<h2>Quiz 1 : Hello World to Python</h2>\n",
    "    \n",
    "Print Say Hello World to Python"
   ]
  },
  {
   "cell_type": "code",
   "execution_count": 2,
   "metadata": {},
   "outputs": [
    {
     "name": "stdout",
     "output_type": "stream",
     "text": [
      "Hello World Python\n"
     ]
    }
   ],
   "source": [
    "print (\"Hello World Python\")"
   ]
  },
  {
   "cell_type": "markdown",
   "metadata": {},
   "source": [
    "Expected Output : \n",
    "\n",
    "Hello World Python"
   ]
  },
  {
   "cell_type": "markdown",
   "metadata": {},
   "source": [
    "<h2>Quiz 2 : Aritmatika di Python </h2>\n",
    "    \n",
    "- Buat statement pertambahan antara 2 number di Python\n",
    "- Buat statement perkurangan antara 2 number di Python\n",
    "- Buat statement perkalian antara 2 number di Python\n",
    "- Buat statement pembagian antara 2 number di Python"
   ]
  },
  {
   "cell_type": "code",
   "execution_count": 5,
   "metadata": {},
   "outputs": [
    {
     "name": "stdout",
     "output_type": "stream",
     "text": [
      "Hasil penjumlahan dari 255 dan 5 adalah 260\n",
      "Hasil pengurangan dari 255 dan 5 adalah 250\n",
      "Hasil perkalian dari 255 dan 5 adalah 1275\n",
      "Hasil pembagian antara 255 dan 5 adalah 51\n"
     ]
    }
   ],
   "source": [
    "a = 255\n",
    "b = 5\n",
    "c = a+b\n",
    "cStr = str(c)\n",
    "d = a-b\n",
    "dStr = str(d)\n",
    "e = a*b\n",
    "eStr = str(e)\n",
    "f = a/b\n",
    "fStr = str(f)\n",
    "print (\"Hasil penjumlahan dari 255 dan 5 adalah \"+cStr+\"\\nHasil pengurangan dari 255 dan 5 adalah \"+dStr+\"\\nHasil perkalian dari 255 dan 5 adalah \"+eStr+\"\\nHasil pembagian antara 255 dan 5 adalah \"+fStr)"
   ]
  },
  {
   "cell_type": "markdown",
   "metadata": {},
   "source": [
    "<h2>Quiz 3 : Assign Variable dan Tipe Data Integer, Float </h2>\n",
    "\n",
    "- Buat suatu variabel a dan b, dimana a dan b adalah nilai bertipe data numeric\n",
    "- Berikan suatu nilai bertipe data integer, hasil pembagian dari a dengan b\n",
    "- Berikan suatu nilai bertipe data float, hasil pembagian dari a dengan b"
   ]
  },
  {
   "cell_type": "code",
   "execution_count": 12,
   "metadata": {},
   "outputs": [
    {
     "name": "stdout",
     "output_type": "stream",
     "text": [
      "Hasil pembagian dengan type data integer antara 321 dan 123 adalah 2\n",
      "Hasil pembagian dengan type data float anatar 321 dan 123 adalah 2.60975609756\n"
     ]
    }
   ],
   "source": [
    "a = 321\n",
    "b = 123\n",
    "c = a/b\n",
    "d = float(a)/float(b)\n",
    "e = str(c)\n",
    "f = str(d)\n",
    "print (\"Hasil pembagian dengan type data integer antara 321 dan 123 adalah \"+e+\"\\nHasil pembagian dengan type data float anatar 321 dan 123 adalah \"+f)"
   ]
  },
  {
   "cell_type": "markdown",
   "metadata": {},
   "source": [
    "<h2>Quiz 4 : String Operation </h2>\n",
    "\n",
    "- masukan nama depan kamu kedalam suatu variable firstname\n",
    "- masukan nama belakang kamu kedalam suatu variable lastname\n",
    "- tampilkan suatu kalimat 'Hello sanbercode, saya firstname lastname! saya siap belajar python data science.'"
   ]
  },
  {
   "cell_type": "code",
   "execution_count": 14,
   "metadata": {},
   "outputs": [
    {
     "name": "stdout",
     "output_type": "stream",
     "text": [
      "Hello sanbercode, saya Edi Yasa! saya siap belajar python data science.\n"
     ]
    }
   ],
   "source": [
    "firstname = \"Edi\"\n",
    "lastname = \"Yasa\"\n",
    "print (\"Hello sanbercode, saya \"+firstname+\" \"+lastname+\"!\"+\" saya siap belajar python data science.\")"
   ]
  },
  {
   "cell_type": "markdown",
   "metadata": {},
   "source": [
    "Expected Output :\n",
    "\n",
    "Hello sanbercode, saya fauzan taufik! saya siap belajar python data science."
   ]
  },
  {
   "cell_type": "markdown",
   "metadata": {},
   "source": [
    "<h2>Quiz 5 : Tipe Data</h2>\n",
    "\n",
    "Lengkapi code di bawah ini untuk menghasilkan output yang sesuai"
   ]
  },
  {
   "cell_type": "code",
   "execution_count": 15,
   "metadata": {},
   "outputs": [
    {
     "name": "stdout",
     "output_type": "stream",
     "text": [
      "the number : 9.99999\n"
     ]
    }
   ],
   "source": [
    "p = 9.99999\n",
    "q = 'the number : '\n",
    "print(q + str(p))"
   ]
  },
  {
   "cell_type": "markdown",
   "metadata": {},
   "source": [
    "Expected Output :\n",
    "\n",
    "the number : 9.99999"
   ]
  },
  {
   "cell_type": "code",
   "execution_count": null,
   "metadata": {},
   "outputs": [],
   "source": []
  }
 ],
 "metadata": {
  "kernelspec": {
   "display_name": "Python 2",
   "language": "python",
   "name": "python2"
  },
  "language_info": {
   "codemirror_mode": {
    "name": "ipython",
    "version": 2
   },
   "file_extension": ".py",
   "mimetype": "text/x-python",
   "name": "python",
   "nbconvert_exporter": "python",
   "pygments_lexer": "ipython2",
   "version": "2.7.17"
  }
 },
 "nbformat": 4,
 "nbformat_minor": 4
}
