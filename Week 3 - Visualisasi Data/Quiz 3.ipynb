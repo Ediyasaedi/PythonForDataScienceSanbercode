{
 "cells": [
  {
   "cell_type": "markdown",
   "metadata": {
    "colab_type": "text",
    "id": "P1yV4PS_B6wd"
   },
   "source": [
    "# QUIZ-3\n",
    "Dataset-dataset berikut ini menunjukkan persentase lemak, protein, dan food yang dikonsumsi dari setiap jenis makanan yang terdaftar. Akhir dataset juga mencakup persentase obesitas dan kurang gizi, dan persentase kasus COVID-19 Terkonfirmasi/Kematian/Sembuh/Aktif (Catatan: Semua data memiliki unit% kecuali Populasi, Unit % tersebut berdasarkan jumlah populasi).\n",
    "\n",
    "Link Download:\n",
    "\n",
    "[Food_Supply_Quantity_kg_Data.csv](https://drive.google.com/uc?export=download&id=1EHSvX9TWPTQXwWLxW9xyKyM8EFoPohOW)\n",
    "\n",
    "[Protein_Supply_Quantity_Data.csv](https://drive.google.com/uc?export=download&id=1Qr4U9lQAVAI3Jcqk0n2HvVHulW_iaKAc)\n",
    "\n",
    "[Fat_Supply_Quantity_Data.csv](https://drive.google.com/uc?export=download&id=1VCzZyckdANfyqh2fJEUecXAt-uCJGxaT)\n",
    "\n",
    "[Supply_Food_Data_Descriptions.csv](https://drive.google.com/uc?export=download&id=1VwZsUhqtPTiQgGHQqjjMFXDriIu1_Gaz)"
   ]
  },
  {
   "cell_type": "code",
   "execution_count": 2,
   "metadata": {
    "colab": {},
    "colab_type": "code",
    "id": "7mh30fPxB6wi"
   },
   "outputs": [],
   "source": [
    "import pandas as pd\n",
    "\n",
    "# Import Semua Data\n",
    "df_food = pd.read_csv('../csv/Food_Supply_Quantity_kg_Data.csv')\n",
    "df_protein = pd.read_csv('../csv/Protein_Supply_Quantity_Data.csv')\n",
    "df_fat = pd.read_csv('../csv/Fat_Supply_Quantity_Data.csv')\n",
    "df_category = pd.read_csv('../csv/Supply_Food_Data_Descriptions.csv')\n"
   ]
  },
  {
   "cell_type": "markdown",
   "metadata": {
    "colab_type": "text",
    "id": "-pQHcLgQB6w2"
   },
   "source": [
    "<h2> 1. Python Quiz: Memisahkan antara column tentang makanan yang di supply dan bukan makanan</h2>\n",
    "\n",
    "di akhir kita mempunyai data list berisi semua column tentang supply makanan dan non supply makanan atau column tentang covid-19 beserta populasi, cara kalian mendapatkannya bebas yang penting sesuai output."
   ]
  },
  {
   "cell_type": "markdown",
   "metadata": {
    "colab_type": "text",
    "id": "dxEfwTdBB6w5"
   },
   "source": [
    "Hasil Akhir Yang di harapkan :\n",
    "\n",
    "- supply columns => columns berisi column tentang semua jenis supply makanan\n",
    "- all columns => Semua columns\n",
    "- non supply columns => column column tentang data covid-19 + obesitas + Undernourished + populasi\n",
    "\n",
    "![alt text](https://drive.google.com/uc?id=1OfUO60EJbM2ESz1BmNTQ_WGbGQ75h4eI)"
   ]
  },
  {
   "cell_type": "code",
   "execution_count": 3,
   "metadata": {
    "colab": {},
    "colab_type": "code",
    "id": "Wl_SmBiIB6w7"
   },
   "outputs": [
    {
     "name": "stdout",
     "output_type": "stream",
     "text": [
      "{'Supply Columns': ['Alcoholic Beverages', 'Animal fats', 'Animal Products', 'Aquatic Products, Other', 'Cereals - Excluding Beer', 'Eggs', 'Fish, Seafood', 'Fruits - Excluding Wine', 'Meat', 'Milk - Excluding Butter', 'Miscellaneous', 'Offals', 'Oilcrops', 'Pulses', 'Spices', 'Starchy Roots', 'Stimulants', 'Sugar & Sweeteners', 'Sugar Crops', 'Treenuts', 'Vegetable Oils', 'Vegetables', 'Vegetal Products']}\n",
      "\n",
      "\n",
      "{'All Columns': ['Country', 'Alcoholic Beverages', 'Animal fats', 'Animal Products', 'Aquatic Products, Other', 'Cereals - Excluding Beer', 'Eggs', 'Fish, Seafood', 'Fruits - Excluding Wine', 'Meat', 'Milk - Excluding Butter', 'Miscellaneous', 'Offals', 'Oilcrops', 'Pulses', 'Spices', 'Starchy Roots', 'Stimulants', 'Sugar & Sweeteners', 'Sugar Crops', 'Treenuts', 'Vegetable Oils', 'Vegetables', 'Vegetal Products', 'Obesity', 'Undernourished', 'Confirmed', 'Deaths', 'Recovered', 'Active', 'Population', 'Unit (all except Population)']}\n",
      "\n",
      "\n",
      "{'Non Supply Columns': ['Country', 'Obesity', 'Undernourished', 'Confirmed', 'Deaths', 'Recovered', 'Active', 'Population', 'Unit (all except Population)']}\n"
     ]
    }
   ],
   "source": [
    "cat_list = [i for i in df_category[\"Categories\"]]\n",
    "\n",
    "supply_col = [i for i in df_food.columns if i in cat_list]\n",
    "all_col = [i for i in df_food.columns]\n",
    "non_supply_col = [i for i in df_food.columns if i not in cat_list]\n",
    "\n",
    "col = [{\"Supply Columns\":supply_col},{\"All Columns\":all_col},{\"Non Supply Columns\":non_supply_col}]\n",
    "print(col[0])\n",
    "print(\"\\n\")\n",
    "print(col[1])\n",
    "print(\"\\n\")\n",
    "print(col[2])"
   ]
  },
  {
   "cell_type": "markdown",
   "metadata": {
    "colab_type": "text",
    "id": "D2b31tlRB6xQ"
   },
   "source": [
    "<h2>2. Pandas Quiz: Menggabungkan DataFrame </h2>\n",
    "\n",
    "Gabungkan Semua data dimana semua data nya berisi semua row dan column yang unik. berikan unique suffixes kepada nama column yang berlabel sama tapi berisi informasi yang berbeda.\n",
    "\n",
    "Tidak boleh ada column yang berisi data informasi yang sama."
   ]
  },
  {
   "cell_type": "markdown",
   "metadata": {
    "colab_type": "text",
    "id": "hgetKQiFB6xT"
   },
   "source": [
    "Hasil akhir yang di harapkan mengenai data adalah seperti berikut:\n",
    "\n",
    "Lima data pertama :\n",
    "\n",
    "![alt text](https://drive.google.com/uc?id=1pUqpDnU8V4zy58GEOF9bIWjbcXnhIICU)\n",
    "\n",
    "Dimensi data Hasil Gabung :\n",
    "(170, 78)\n",
    "\n",
    "Column Data Hasil Gabung, Perhatikan bahwa di setiap akhir nama column, nama column tersebut di tambahkan dengan suffixes berdasarkan asal data tersebut :\n",
    "\n",
    "['Country', 'Alcoholic Beverages_food', 'Animal fats_food',\n",
    "       'Animal Products_food', 'Aquatic Products, Other_food',\n",
    "       'Cereals - Excluding Beer_food', 'Eggs_food', 'Fish, Seafood_food',\n",
    "       'Fruits - Excluding Wine_food', 'Meat_food',\n",
    "       'Milk - Excluding Butter_food', 'Miscellaneous_food', 'Offals_food',\n",
    "       'Oilcrops_food', 'Pulses_food', 'Spices_food', 'Starchy Roots_food',\n",
    "       'Stimulants_food', 'Sugar & Sweeteners_food', 'Sugar Crops_food',\n",
    "       'Treenuts_food', 'Vegetable Oils_food', 'Vegetables_food',\n",
    "       'Vegetal Products_food', 'Obesity', 'Undernourished', 'Confirmed',\n",
    "       'Deaths', 'Recovered', 'Active', 'Population',\n",
    "       'Unit (all except Population)', 'Alcoholic Beverages_fat',\n",
    "       'Animal Products_fat', 'Animal fats_fat', 'Aquatic Products, Other_fat',\n",
    "       'Cereals - Excluding Beer_fat', 'Eggs_fat', 'Fish, Seafood_fat',\n",
    "       'Fruits - Excluding Wine_fat', 'Meat_fat', 'Miscellaneous_fat',\n",
    "       'Milk - Excluding Butter_fat', 'Offals_fat', 'Oilcrops_fat',\n",
    "       'Pulses_fat', 'Spices_fat', 'Starchy Roots_fat', 'Stimulants_fat',\n",
    "       'Sugar Crops_fat', 'Sugar & Sweeteners_fat', 'Treenuts_fat',\n",
    "       'Vegetal Products_fat', 'Vegetable Oils_fat', 'Vegetables_fat',\n",
    "       'Alcoholic Beverages_protein', 'Animal Products_protein',\n",
    "       'Animal fats_protein', 'Aquatic Products, Other_protein',\n",
    "       'Cereals - Excluding Beer_protein', 'Eggs_protein',\n",
    "       'Fish, Seafood_protein', 'Fruits - Excluding Wine_protein',\n",
    "       'Meat_protein', 'Milk - Excluding Butter_protein', 'Offals_protein',\n",
    "       'Oilcrops_protein', 'Pulses_protein', 'Spices_protein',\n",
    "       'Starchy Roots_protein', 'Stimulants_protein', 'Sugar Crops_protein',\n",
    "       'Sugar & Sweeteners_protein', 'Treenuts_protein',\n",
    "       'Vegetal Products_protein', 'Vegetable Oils_protein',\n",
    "       'Vegetables_protein', 'Miscellaneous_protein']"
   ]
  },
  {
   "cell_type": "code",
   "execution_count": 4,
   "metadata": {
    "colab": {},
    "colab_type": "code",
    "id": "LJ1ivIlWB6xW"
   },
   "outputs": [],
   "source": [
    "# Code Here\n",
    "nsc_country = non_supply_col.remove(\"Country\")\n",
    "df_non_sup = pd.concat([df_food.iloc[:,[0]],df_food.iloc[:,-8:]],axis=1)\n",
    "df_food.drop(non_supply_col,axis=1,inplace=True)\n",
    "df_fat.drop(non_supply_col,axis=1,inplace=True)\n",
    "df_protein.drop(non_supply_col,axis=1,inplace=True)"
   ]
  },
  {
   "cell_type": "code",
   "execution_count": 5,
   "metadata": {},
   "outputs": [],
   "source": [
    "food_col = []\n",
    "for i,v in enumerate(df_food.columns.tolist()):\n",
    "    if i == 0:\n",
    "        food_col.append(v)\n",
    "    else:\n",
    "        food_col.append(v+\"_food\")\n",
    "df_food.columns = food_col"
   ]
  },
  {
   "cell_type": "code",
   "execution_count": 6,
   "metadata": {},
   "outputs": [
    {
     "data": {
      "text/html": [
       "<div>\n",
       "<style scoped>\n",
       "    .dataframe tbody tr th:only-of-type {\n",
       "        vertical-align: middle;\n",
       "    }\n",
       "\n",
       "    .dataframe tbody tr th {\n",
       "        vertical-align: top;\n",
       "    }\n",
       "\n",
       "    .dataframe thead th {\n",
       "        text-align: right;\n",
       "    }\n",
       "</style>\n",
       "<table border=\"1\" class=\"dataframe\">\n",
       "  <thead>\n",
       "    <tr style=\"text-align: right;\">\n",
       "      <th></th>\n",
       "      <th>Country</th>\n",
       "      <th>Alcoholic Beverages_food</th>\n",
       "      <th>Animal fats_food</th>\n",
       "      <th>Animal Products_food</th>\n",
       "      <th>Aquatic Products, Other_food</th>\n",
       "      <th>Cereals - Excluding Beer_food</th>\n",
       "      <th>Eggs_food</th>\n",
       "      <th>Fish, Seafood_food</th>\n",
       "      <th>Fruits - Excluding Wine_food</th>\n",
       "      <th>Meat_food</th>\n",
       "      <th>...</th>\n",
       "      <th>Vegetables_protein</th>\n",
       "      <th>Miscellaneous_protein</th>\n",
       "      <th>Obesity</th>\n",
       "      <th>Undernourished</th>\n",
       "      <th>Confirmed</th>\n",
       "      <th>Deaths</th>\n",
       "      <th>Recovered</th>\n",
       "      <th>Active</th>\n",
       "      <th>Population</th>\n",
       "      <th>Unit (all except Population)</th>\n",
       "    </tr>\n",
       "  </thead>\n",
       "  <tbody>\n",
       "    <tr>\n",
       "      <th>0</th>\n",
       "      <td>Afghanistan</td>\n",
       "      <td>0.0014</td>\n",
       "      <td>0.1973</td>\n",
       "      <td>9.4341</td>\n",
       "      <td>0.0000</td>\n",
       "      <td>24.8097</td>\n",
       "      <td>0.2099</td>\n",
       "      <td>0.0350</td>\n",
       "      <td>5.3495</td>\n",
       "      <td>1.2020</td>\n",
       "      <td>...</td>\n",
       "      <td>1.1370</td>\n",
       "      <td>0.0462</td>\n",
       "      <td>4.5</td>\n",
       "      <td>29.8</td>\n",
       "      <td>0.008475</td>\n",
       "      <td>0.000250</td>\n",
       "      <td>0.001107</td>\n",
       "      <td>0.007118</td>\n",
       "      <td>38042000.0</td>\n",
       "      <td>%</td>\n",
       "    </tr>\n",
       "    <tr>\n",
       "      <th>1</th>\n",
       "      <td>Albania</td>\n",
       "      <td>1.6719</td>\n",
       "      <td>0.1357</td>\n",
       "      <td>18.7684</td>\n",
       "      <td>0.0000</td>\n",
       "      <td>5.7817</td>\n",
       "      <td>0.5815</td>\n",
       "      <td>0.2126</td>\n",
       "      <td>6.7861</td>\n",
       "      <td>1.8845</td>\n",
       "      <td>...</td>\n",
       "      <td>3.2456</td>\n",
       "      <td>0.0544</td>\n",
       "      <td>22.3</td>\n",
       "      <td>6.2</td>\n",
       "      <td>0.028691</td>\n",
       "      <td>0.001085</td>\n",
       "      <td>0.019944</td>\n",
       "      <td>0.007663</td>\n",
       "      <td>2858000.0</td>\n",
       "      <td>%</td>\n",
       "    </tr>\n",
       "    <tr>\n",
       "      <th>2</th>\n",
       "      <td>Algeria</td>\n",
       "      <td>0.2711</td>\n",
       "      <td>0.0282</td>\n",
       "      <td>9.6334</td>\n",
       "      <td>0.0000</td>\n",
       "      <td>13.6816</td>\n",
       "      <td>0.5277</td>\n",
       "      <td>0.2416</td>\n",
       "      <td>6.3801</td>\n",
       "      <td>1.1305</td>\n",
       "      <td>...</td>\n",
       "      <td>3.1267</td>\n",
       "      <td>0.1399</td>\n",
       "      <td>26.6</td>\n",
       "      <td>3.9</td>\n",
       "      <td>0.011146</td>\n",
       "      <td>0.001083</td>\n",
       "      <td>0.004762</td>\n",
       "      <td>0.005301</td>\n",
       "      <td>43406000.0</td>\n",
       "      <td>%</td>\n",
       "    </tr>\n",
       "    <tr>\n",
       "      <th>3</th>\n",
       "      <td>Angola</td>\n",
       "      <td>5.8087</td>\n",
       "      <td>0.0560</td>\n",
       "      <td>4.9278</td>\n",
       "      <td>0.0000</td>\n",
       "      <td>9.1085</td>\n",
       "      <td>0.0587</td>\n",
       "      <td>1.7707</td>\n",
       "      <td>6.0005</td>\n",
       "      <td>2.0571</td>\n",
       "      <td>...</td>\n",
       "      <td>0.8133</td>\n",
       "      <td>0.0924</td>\n",
       "      <td>6.8</td>\n",
       "      <td>25</td>\n",
       "      <td>0.000115</td>\n",
       "      <td>0.000006</td>\n",
       "      <td>0.000035</td>\n",
       "      <td>0.000073</td>\n",
       "      <td>31427000.0</td>\n",
       "      <td>%</td>\n",
       "    </tr>\n",
       "    <tr>\n",
       "      <th>4</th>\n",
       "      <td>Antigua and Barbuda</td>\n",
       "      <td>3.5764</td>\n",
       "      <td>0.0087</td>\n",
       "      <td>16.6613</td>\n",
       "      <td>0.0000</td>\n",
       "      <td>5.9960</td>\n",
       "      <td>0.2274</td>\n",
       "      <td>4.1489</td>\n",
       "      <td>10.7451</td>\n",
       "      <td>5.6888</td>\n",
       "      <td>...</td>\n",
       "      <td>1.6024</td>\n",
       "      <td>0.2947</td>\n",
       "      <td>19.1</td>\n",
       "      <td>NaN</td>\n",
       "      <td>0.025773</td>\n",
       "      <td>0.003093</td>\n",
       "      <td>0.016495</td>\n",
       "      <td>0.006186</td>\n",
       "      <td>97000.0</td>\n",
       "      <td>%</td>\n",
       "    </tr>\n",
       "    <tr>\n",
       "      <th>...</th>\n",
       "      <td>...</td>\n",
       "      <td>...</td>\n",
       "      <td>...</td>\n",
       "      <td>...</td>\n",
       "      <td>...</td>\n",
       "      <td>...</td>\n",
       "      <td>...</td>\n",
       "      <td>...</td>\n",
       "      <td>...</td>\n",
       "      <td>...</td>\n",
       "      <td>...</td>\n",
       "      <td>...</td>\n",
       "      <td>...</td>\n",
       "      <td>...</td>\n",
       "      <td>...</td>\n",
       "      <td>...</td>\n",
       "      <td>...</td>\n",
       "      <td>...</td>\n",
       "      <td>...</td>\n",
       "      <td>...</td>\n",
       "      <td>...</td>\n",
       "    </tr>\n",
       "    <tr>\n",
       "      <th>165</th>\n",
       "      <td>Venezuela (Bolivarian Republic of)</td>\n",
       "      <td>2.5952</td>\n",
       "      <td>0.0403</td>\n",
       "      <td>14.7565</td>\n",
       "      <td>0.0000</td>\n",
       "      <td>12.9253</td>\n",
       "      <td>0.3389</td>\n",
       "      <td>0.9456</td>\n",
       "      <td>7.6460</td>\n",
       "      <td>3.8328</td>\n",
       "      <td>...</td>\n",
       "      <td>1.0129</td>\n",
       "      <td>0.0267</td>\n",
       "      <td>25.2</td>\n",
       "      <td>21.2</td>\n",
       "      <td>0.001266</td>\n",
       "      <td>0.000035</td>\n",
       "      <td>0.000554</td>\n",
       "      <td>0.000677</td>\n",
       "      <td>28516000.0</td>\n",
       "      <td>%</td>\n",
       "    </tr>\n",
       "    <tr>\n",
       "      <th>166</th>\n",
       "      <td>Vietnam</td>\n",
       "      <td>1.4591</td>\n",
       "      <td>0.1640</td>\n",
       "      <td>8.5765</td>\n",
       "      <td>0.0042</td>\n",
       "      <td>16.8740</td>\n",
       "      <td>0.3077</td>\n",
       "      <td>2.6392</td>\n",
       "      <td>5.9029</td>\n",
       "      <td>4.4382</td>\n",
       "      <td>...</td>\n",
       "      <td>3.7216</td>\n",
       "      <td>0.0389</td>\n",
       "      <td>2.1</td>\n",
       "      <td>9.3</td>\n",
       "      <td>0.000283</td>\n",
       "      <td>0.000000</td>\n",
       "      <td>0.000243</td>\n",
       "      <td>0.000041</td>\n",
       "      <td>95656000.0</td>\n",
       "      <td>%</td>\n",
       "    </tr>\n",
       "    <tr>\n",
       "      <th>167</th>\n",
       "      <td>Yemen</td>\n",
       "      <td>0.0364</td>\n",
       "      <td>0.0446</td>\n",
       "      <td>5.7874</td>\n",
       "      <td>0.0000</td>\n",
       "      <td>27.2077</td>\n",
       "      <td>0.2579</td>\n",
       "      <td>0.5240</td>\n",
       "      <td>5.1344</td>\n",
       "      <td>2.7871</td>\n",
       "      <td>...</td>\n",
       "      <td>0.5448</td>\n",
       "      <td>0.0564</td>\n",
       "      <td>14.1</td>\n",
       "      <td>38.9</td>\n",
       "      <td>0.000075</td>\n",
       "      <td>0.000014</td>\n",
       "      <td>0.000003</td>\n",
       "      <td>0.000058</td>\n",
       "      <td>29162000.0</td>\n",
       "      <td>%</td>\n",
       "    </tr>\n",
       "    <tr>\n",
       "      <th>168</th>\n",
       "      <td>Zambia</td>\n",
       "      <td>5.7360</td>\n",
       "      <td>0.0829</td>\n",
       "      <td>6.0197</td>\n",
       "      <td>0.0000</td>\n",
       "      <td>21.1938</td>\n",
       "      <td>0.3399</td>\n",
       "      <td>1.6924</td>\n",
       "      <td>1.0183</td>\n",
       "      <td>1.8427</td>\n",
       "      <td>...</td>\n",
       "      <td>0.8039</td>\n",
       "      <td>0.0592</td>\n",
       "      <td>6.5</td>\n",
       "      <td>46.7</td>\n",
       "      <td>0.000773</td>\n",
       "      <td>0.000017</td>\n",
       "      <td>0.000515</td>\n",
       "      <td>0.000241</td>\n",
       "      <td>17861000.0</td>\n",
       "      <td>%</td>\n",
       "    </tr>\n",
       "    <tr>\n",
       "      <th>169</th>\n",
       "      <td>Zimbabwe</td>\n",
       "      <td>4.0552</td>\n",
       "      <td>0.0755</td>\n",
       "      <td>8.1489</td>\n",
       "      <td>0.0000</td>\n",
       "      <td>22.6240</td>\n",
       "      <td>0.2678</td>\n",
       "      <td>0.5518</td>\n",
       "      <td>2.2000</td>\n",
       "      <td>2.6142</td>\n",
       "      <td>...</td>\n",
       "      <td>0.5955</td>\n",
       "      <td>0.0586</td>\n",
       "      <td>12.3</td>\n",
       "      <td>51.3</td>\n",
       "      <td>0.000232</td>\n",
       "      <td>0.000027</td>\n",
       "      <td>0.000034</td>\n",
       "      <td>0.000171</td>\n",
       "      <td>14645000.0</td>\n",
       "      <td>%</td>\n",
       "    </tr>\n",
       "  </tbody>\n",
       "</table>\n",
       "<p>170 rows × 78 columns</p>\n",
       "</div>"
      ],
      "text/plain": [
       "                                Country  Alcoholic Beverages_food  \\\n",
       "0                           Afghanistan                    0.0014   \n",
       "1                               Albania                    1.6719   \n",
       "2                               Algeria                    0.2711   \n",
       "3                                Angola                    5.8087   \n",
       "4                   Antigua and Barbuda                    3.5764   \n",
       "..                                  ...                       ...   \n",
       "165  Venezuela (Bolivarian Republic of)                    2.5952   \n",
       "166                             Vietnam                    1.4591   \n",
       "167                               Yemen                    0.0364   \n",
       "168                              Zambia                    5.7360   \n",
       "169                            Zimbabwe                    4.0552   \n",
       "\n",
       "     Animal fats_food  Animal Products_food  Aquatic Products, Other_food  \\\n",
       "0              0.1973                9.4341                        0.0000   \n",
       "1              0.1357               18.7684                        0.0000   \n",
       "2              0.0282                9.6334                        0.0000   \n",
       "3              0.0560                4.9278                        0.0000   \n",
       "4              0.0087               16.6613                        0.0000   \n",
       "..                ...                   ...                           ...   \n",
       "165            0.0403               14.7565                        0.0000   \n",
       "166            0.1640                8.5765                        0.0042   \n",
       "167            0.0446                5.7874                        0.0000   \n",
       "168            0.0829                6.0197                        0.0000   \n",
       "169            0.0755                8.1489                        0.0000   \n",
       "\n",
       "     Cereals - Excluding Beer_food  Eggs_food  Fish, Seafood_food  \\\n",
       "0                          24.8097     0.2099              0.0350   \n",
       "1                           5.7817     0.5815              0.2126   \n",
       "2                          13.6816     0.5277              0.2416   \n",
       "3                           9.1085     0.0587              1.7707   \n",
       "4                           5.9960     0.2274              4.1489   \n",
       "..                             ...        ...                 ...   \n",
       "165                        12.9253     0.3389              0.9456   \n",
       "166                        16.8740     0.3077              2.6392   \n",
       "167                        27.2077     0.2579              0.5240   \n",
       "168                        21.1938     0.3399              1.6924   \n",
       "169                        22.6240     0.2678              0.5518   \n",
       "\n",
       "     Fruits - Excluding Wine_food  Meat_food  ...  Vegetables_protein  \\\n",
       "0                          5.3495     1.2020  ...              1.1370   \n",
       "1                          6.7861     1.8845  ...              3.2456   \n",
       "2                          6.3801     1.1305  ...              3.1267   \n",
       "3                          6.0005     2.0571  ...              0.8133   \n",
       "4                         10.7451     5.6888  ...              1.6024   \n",
       "..                            ...        ...  ...                 ...   \n",
       "165                        7.6460     3.8328  ...              1.0129   \n",
       "166                        5.9029     4.4382  ...              3.7216   \n",
       "167                        5.1344     2.7871  ...              0.5448   \n",
       "168                        1.0183     1.8427  ...              0.8039   \n",
       "169                        2.2000     2.6142  ...              0.5955   \n",
       "\n",
       "     Miscellaneous_protein  Obesity  Undernourished  Confirmed    Deaths  \\\n",
       "0                   0.0462      4.5            29.8   0.008475  0.000250   \n",
       "1                   0.0544     22.3             6.2   0.028691  0.001085   \n",
       "2                   0.1399     26.6             3.9   0.011146  0.001083   \n",
       "3                   0.0924      6.8              25   0.000115  0.000006   \n",
       "4                   0.2947     19.1             NaN   0.025773  0.003093   \n",
       "..                     ...      ...             ...        ...       ...   \n",
       "165                 0.0267     25.2            21.2   0.001266  0.000035   \n",
       "166                 0.0389      2.1             9.3   0.000283  0.000000   \n",
       "167                 0.0564     14.1            38.9   0.000075  0.000014   \n",
       "168                 0.0592      6.5            46.7   0.000773  0.000017   \n",
       "169                 0.0586     12.3            51.3   0.000232  0.000027   \n",
       "\n",
       "     Recovered    Active  Population  Unit (all except Population)  \n",
       "0     0.001107  0.007118  38042000.0                             %  \n",
       "1     0.019944  0.007663   2858000.0                             %  \n",
       "2     0.004762  0.005301  43406000.0                             %  \n",
       "3     0.000035  0.000073  31427000.0                             %  \n",
       "4     0.016495  0.006186     97000.0                             %  \n",
       "..         ...       ...         ...                           ...  \n",
       "165   0.000554  0.000677  28516000.0                             %  \n",
       "166   0.000243  0.000041  95656000.0                             %  \n",
       "167   0.000003  0.000058  29162000.0                             %  \n",
       "168   0.000515  0.000241  17861000.0                             %  \n",
       "169   0.000034  0.000171  14645000.0                             %  \n",
       "\n",
       "[170 rows x 78 columns]"
      ]
     },
     "execution_count": 6,
     "metadata": {},
     "output_type": "execute_result"
    }
   ],
   "source": [
    "df_fp = pd.merge(left=df_fat,right=df_protein,on=\"Country\",suffixes=(\"_fat\",\"_protein\"),how=\"inner\")\n",
    "\n",
    "df_fpp = pd.merge(left=df_food,right=df_fp,on=\"Country\",suffixes=(\"\",\"\"),how=\"inner\")\n",
    "\n",
    "df_fppn = pd.merge(left=df_fpp,right=df_non_sup,on=\"Country\",suffixes=(\"\",\"\"),how=\"inner\")\n",
    "\n",
    "df_fppn"
   ]
  },
  {
   "cell_type": "markdown",
   "metadata": {
    "colab_type": "text",
    "id": "pegkuXiNB6xj"
   },
   "source": [
    "<h2>3. Pandas Quiz: Sorting and Filtering </h2>"
   ]
  },
  {
   "cell_type": "markdown",
   "metadata": {
    "colab_type": "text",
    "id": "W4gNA0ZBB6xm"
   },
   "source": [
    "Buatlah sebuah data atau gunakan data gabungan dari soal no.2, dimana data ini di sort dari yang terbesar ke yang terkecil berdasarkan column Obesitas.\n",
    "\n",
    "Kemudian Lakukan Perintah Berikut :\n",
    "\n",
    "- print data hasil sorting\n",
    "- Berapa persen jumlah obesitas di Indonesia berdasarkan populasinya? kemudian tunjukan cara mendapatkannya!\n",
    "- Urutan ke berapakah Indonesia mengenai proposi penduduk yang obesitas berdasarkan total populasinya dari yang terbesar? kemudian tunjukan cara mendapatkannya! "
   ]
  },
  {
   "cell_type": "code",
   "execution_count": 7,
   "metadata": {
    "colab": {},
    "colab_type": "code",
    "id": "tHZDS4QTB6xo"
   },
   "outputs": [
    {
     "name": "stdout",
     "output_type": "stream",
     "text": [
      "                      Country  Obesity\n",
      "0                    Kiribati     45.6\n",
      "1                       Samoa     45.5\n",
      "2    United States of America     37.3\n",
      "3                      Kuwait     37.0\n",
      "4                Saudi Arabia     35.0\n",
      "..                        ...      ...\n",
      "165               Timor-Leste      2.9\n",
      "166                   Vietnam      2.1\n",
      "167          French Polynesia      NaN\n",
      "168             New Caledonia      NaN\n",
      "169                   Taiwan*      NaN\n",
      "\n",
      "[170 rows x 2 columns]\n"
     ]
    }
   ],
   "source": [
    "# print Hasil Sorting\n",
    "obe_sort = df_fppn.sort_values(\"Obesity\",ascending=False)[[\"Country\",\"Obesity\"]].reset_index(drop=True)\n",
    "print(obe_sort)"
   ]
  },
  {
   "cell_type": "code",
   "execution_count": 8,
   "metadata": {
    "colab": {},
    "colab_type": "code",
    "id": "Ddz7bWTkB6x9"
   },
   "outputs": [
    {
     "name": "stdout",
     "output_type": "stream",
     "text": [
      "nilai proporsi obesitasitas di Indonesia = 6.9 %\n"
     ]
    }
   ],
   "source": [
    "# code untuk mendapatkan nilai proporsi obesitas di Indonesia\n",
    "obe_ind = df_fppn[df_fppn[\"Country\"]==\"Indonesia\"][\"Obesity\"].values[0]\n",
    "print(f\"nilai proporsi obesitasitas di Indonesia = {obe_ind} %\")"
   ]
  },
  {
   "cell_type": "code",
   "execution_count": 9,
   "metadata": {
    "colab": {},
    "colab_type": "code",
    "id": "FHA6R7jzB6yM"
   },
   "outputs": [
    {
     "name": "stdout",
     "output_type": "stream",
     "text": [
      "peringkat indonesia berdasarkan proposi obesitas ialah 138\n"
     ]
    }
   ],
   "source": [
    "# code untuk mendapatkan urutan indoensia mengenai proposi obesitas dari terbesar\n",
    "obe_ind_urut = obe_sort[obe_sort[\"Country\"]==\"Indonesia\"].index[0]\n",
    "print(f\"peringkat indonesia berdasarkan proposi obesitas ialah {obe_ind_urut}\")"
   ]
  },
  {
   "cell_type": "markdown",
   "metadata": {
    "colab_type": "text",
    "id": "-67mnOAPB6ym"
   },
   "source": [
    "<h2>4. Pandas Quiz: Binning Data, Grouping, dan Aggregating </h2>"
   ]
  },
  {
   "cell_type": "markdown",
   "metadata": {
    "colab_type": "text",
    "id": "QqGWcJVGB6yp"
   },
   "source": [
    "Binning data Terkonfirmasi COVID-19 (column Confirmed) dari data food supply menjadi 5 bagian berdasarkan quartile. kalian dapat menggunakan fungsi qcut untuk melakukan bininng ini. Masukan data hasil binning tersebut menjadi column baru untuk data food supply. misalkan beri nama column tersebut dengan 'Confirmed Category'. Berikan label 'Sangat Tidak Banyak', 'Tidak Banyak', 'Sedang', 'Cukup Banyak', 'Sangat Banyak'. untuk masing-masing binning dari interval yang memiliki nilai terkecil sampai yang terbesar\n",
    "\n",
    "Baca dokumentasi berikut untuk fungsi qcut : https://pandas.pydata.org/pandas-docs/stable/reference/api/pandas.qcut.html\n",
    "\n",
    "- Buat data baru yang berupa data grouping semua data berdasarkan column Hasil Bininng atau column 'Confirmed Category'.\n",
    "- Grouping hanya column 'Obesity', 'Meat', 'Fruits - Excluding Wine', 'Fish, Seafood', 'Animal Products', 'Vegetal Products' saja.\n",
    "- Kemudian Aggregate dengan fungsi mean.\n",
    "\n",
    "Expected Output :\n",
    "\n",
    "![alt text](https://drive.google.com/uc?id=1LZIgWZqDTl2WGBjS_M1nAqNGFTTmqC0Q)"
   ]
  },
  {
   "cell_type": "code",
   "execution_count": 13,
   "metadata": {
    "colab": {},
    "colab_type": "code",
    "id": "V2EmtMsDB6yr"
   },
   "outputs": [],
   "source": [
    "# Code Here\n",
    "df_food = pd.read_csv('../csv/Food_Supply_Quantity_kg_Data.csv')\n",
    "df_food[\"Confirmed_Category\"]=pd.qcut(df_food[\"Confirmed\"],5,labels=[\"Sangat Tidak Banyak\",\"Tidak Banyak\",\"Sedang\",\"Cukup Banyak\",\"Sangat Banyak\"],)\n",
    "group_by_confirmed = df_food.groupby(\"Confirmed_Category\").mean()[['Obesity', 'Meat', 'Fruits - Excluding Wine', 'Fish, Seafood', 'Animal Products', 'Vegetal Products']]"
   ]
  },
  {
   "cell_type": "code",
   "execution_count": 14,
   "metadata": {
    "colab": {},
    "colab_type": "code",
    "id": "S8hIJSqdB6y7"
   },
   "outputs": [],
   "source": [
    "group_by_confirmed.to_csv('groupby_confirmed.csv')"
   ]
  },
  {
   "cell_type": "markdown",
   "metadata": {
    "colab_type": "text",
    "id": "aCVBOuCZB6zL"
   },
   "source": [
    "<h2>5. Matplotlib Visualization: Bar plot </h2>\n",
    "\n",
    "Gunakan data grouping pada soal sebelumnya untuk melakukan visualisasi. jika kalian tidak dapat menyelesaikan soal tersebut, maka silahkan download data berikut yang merupakan hasil dari data grouping.\n",
    "\n",
    "[Download](https://drive.google.com/uc?export=download&id=1ZHnO7O4yRUMiPmsX5zB_S_oB-w8lD1Yf)\n",
    "\n",
    "Normalisasi data hasil grouping tersebut dengan rumus min-max normalisasi seperti di gambar. Kemudian buatlah grouping Visualization dengan berplot, visualisasikan data column 'Obesity', 'Fruits - Excluding Wine', 'Fish, Seafood', 'Animal Products' dan 'Vegetal Products'. \n",
    "\n",
    "Expected Output yang di hasilkan seperti gambar berikut.\n",
    "\n",
    "![alt text](https://drive.google.com/uc?id=1v7aJMCeD_sUaZ0WQaQzAxCTy_EUJ7E4M)"
   ]
  },
  {
   "cell_type": "markdown",
   "metadata": {
    "colab_type": "text",
    "id": "8BDrUwc6B6zN"
   },
   "source": [
    "## Rumus Normalisasi\n",
    "\n",
    "![alt text](https://drive.google.com/uc?id=1_1ueCPAPC1ialSsfQQ9Wm_TmGP9u-kEo)"
   ]
  },
  {
   "cell_type": "markdown",
   "metadata": {
    "colab_type": "text",
    "id": "GNwgeySvB6zQ"
   },
   "source": [
    "## Expected Ouput Data Hasil Normalisasi\n",
    "\n",
    "![alt text](https://drive.google.com/uc?id=1Y7X46acxUUSSByjsL99LMurNF8018Zbv)"
   ]
  },
  {
   "cell_type": "code",
   "execution_count": 16,
   "metadata": {
    "colab": {},
    "colab_type": "code",
    "id": "3HxIw3RDB6zV"
   },
   "outputs": [
    {
     "data": {
      "text/html": [
       "<div>\n",
       "<style scoped>\n",
       "    .dataframe tbody tr th:only-of-type {\n",
       "        vertical-align: middle;\n",
       "    }\n",
       "\n",
       "    .dataframe tbody tr th {\n",
       "        vertical-align: top;\n",
       "    }\n",
       "\n",
       "    .dataframe thead th {\n",
       "        text-align: right;\n",
       "    }\n",
       "</style>\n",
       "<table border=\"1\" class=\"dataframe\">\n",
       "  <thead>\n",
       "    <tr style=\"text-align: right;\">\n",
       "      <th></th>\n",
       "      <th>Obesity</th>\n",
       "      <th>Meat</th>\n",
       "      <th>Fruits - Excluding Wine</th>\n",
       "      <th>Fish, Seafood</th>\n",
       "      <th>Animal Products</th>\n",
       "      <th>Vegetal Products</th>\n",
       "    </tr>\n",
       "    <tr>\n",
       "      <th>Confirmed_Category</th>\n",
       "      <th></th>\n",
       "      <th></th>\n",
       "      <th></th>\n",
       "      <th></th>\n",
       "      <th></th>\n",
       "      <th></th>\n",
       "    </tr>\n",
       "  </thead>\n",
       "  <tbody>\n",
       "    <tr>\n",
       "      <th>Sangat Tidak Banyak</th>\n",
       "      <td>0.000000</td>\n",
       "      <td>0.070203</td>\n",
       "      <td>0.000000</td>\n",
       "      <td>0.000000</td>\n",
       "      <td>0.000000</td>\n",
       "      <td>1.000000</td>\n",
       "    </tr>\n",
       "    <tr>\n",
       "      <th>Tidak Banyak</th>\n",
       "      <td>0.241866</td>\n",
       "      <td>0.000000</td>\n",
       "      <td>0.401324</td>\n",
       "      <td>0.660219</td>\n",
       "      <td>0.029487</td>\n",
       "      <td>0.970516</td>\n",
       "    </tr>\n",
       "    <tr>\n",
       "      <th>Sedang</th>\n",
       "      <td>0.726771</td>\n",
       "      <td>0.799348</td>\n",
       "      <td>1.000000</td>\n",
       "      <td>0.363049</td>\n",
       "      <td>0.445126</td>\n",
       "      <td>0.554882</td>\n",
       "    </tr>\n",
       "    <tr>\n",
       "      <th>Cukup Banyak</th>\n",
       "      <td>0.901272</td>\n",
       "      <td>1.000000</td>\n",
       "      <td>0.500284</td>\n",
       "      <td>1.000000</td>\n",
       "      <td>0.854571</td>\n",
       "      <td>0.145628</td>\n",
       "    </tr>\n",
       "    <tr>\n",
       "      <th>Sangat Banyak</th>\n",
       "      <td>1.000000</td>\n",
       "      <td>0.988665</td>\n",
       "      <td>0.194716</td>\n",
       "      <td>0.544864</td>\n",
       "      <td>1.000000</td>\n",
       "      <td>0.000000</td>\n",
       "    </tr>\n",
       "  </tbody>\n",
       "</table>\n",
       "</div>"
      ],
      "text/plain": [
       "                      Obesity      Meat  Fruits - Excluding Wine  \\\n",
       "Confirmed_Category                                                 \n",
       "Sangat Tidak Banyak  0.000000  0.070203                 0.000000   \n",
       "Tidak Banyak         0.241866  0.000000                 0.401324   \n",
       "Sedang               0.726771  0.799348                 1.000000   \n",
       "Cukup Banyak         0.901272  1.000000                 0.500284   \n",
       "Sangat Banyak        1.000000  0.988665                 0.194716   \n",
       "\n",
       "                     Fish, Seafood  Animal Products  Vegetal Products  \n",
       "Confirmed_Category                                                     \n",
       "Sangat Tidak Banyak       0.000000         0.000000          1.000000  \n",
       "Tidak Banyak              0.660219         0.029487          0.970516  \n",
       "Sedang                    0.363049         0.445126          0.554882  \n",
       "Cukup Banyak              1.000000         0.854571          0.145628  \n",
       "Sangat Banyak             0.544864         1.000000          0.000000  "
      ]
     },
     "execution_count": 16,
     "metadata": {},
     "output_type": "execute_result"
    }
   ],
   "source": [
    "# Code Here\n",
    "import numpy as np\n",
    "df_group= group_by_confirmed.apply(lambda x:\n",
    "                         (x-np.min(x)) / (np.max(x)-np.min(x)),axis=0)\n",
    "df_group"
   ]
  },
  {
   "cell_type": "code",
   "execution_count": 21,
   "metadata": {},
   "outputs": [
    {
     "data": {
      "image/png": "[encoded data removed]",
      "text/plain": [
       "<Figure size 1440x432 with 1 Axes>"
      ]
     },
     "metadata": {},
     "output_type": "display_data"
    }
   ],
   "source": [
    "import seaborn as sns\n",
    "import matplotlib.pyplot as plt\n",
    "\n",
    "sns.set_style(\"whitegrid\")\n",
    "index = np.arange(len(df_group.columns))\n",
    "plt.figure(figsize=(20,6))\n",
    "\n",
    "for i,v in enumerate(df_group.index):\n",
    "  plt.bar(index + i*.065, df_group.T[v], width=.07)\n",
    "plt.legend(df_group.index)\n",
    "plt.title(\"Perbandingan Konsumsi Makanan Berdasarkan Tingkat Kasus COVID-19\",size=20)\n",
    "plt.xticks(ticks=[0.2, 1.2, 2.2, 3.2, 4.2, 5.2, 6.2],labels=df_group.columns,size=12)\n",
    "plt.show()"
   ]
  },
  {
   "cell_type": "markdown",
   "metadata": {
    "colab_type": "text",
    "id": "M-Wd3_hOB6zu"
   },
   "source": [
    "<h2>6. Matplotlib Visualization: Scatter Plot </h2>"
   ]
  },
  {
   "cell_type": "markdown",
   "metadata": {
    "colab_type": "text",
    "id": "N69ef5bYB6zw"
   },
   "source": [
    "Buatlah visualisasi perbandingan scatter plot dimana kita akan membandingkan respon Jumlah Kasus Covid-19 yang terkonfirmasi berdasarkan Supply Sayuran. dimana :\n",
    "- Tandai proporsi kematian jumlah kematian (column Death) dengan ukuran dari data poin.  \n",
    "- Tandai proporsi produk hewani (column Animal Product) dengan warna, berikan colormap 'gist_yarg'.\n",
    "\n",
    "Expected Output :\n",
    "\n",
    "![alt text](https://drive.google.com/uc?id=1eAzqLAdj7Ef-pvJ4dyr0nUB-EuUldGIo)"
   ]
  },
  {
   "cell_type": "code",
   "execution_count": 22,
   "metadata": {
    "colab": {},
    "colab_type": "code",
    "id": "A6ls8EYsB6zy"
   },
   "outputs": [
    {
     "data": {
      "text/plain": [
       "<matplotlib.colorbar.Colorbar at 0xe85fe50>"
      ]
     },
     "execution_count": 22,
     "metadata": {},
     "output_type": "execute_result"
    },
    {
     "data": {
      "image/png": "[encoded data removed]",
      "text/plain": [
       "<Figure size 1008x432 with 2 Axes>"
      ]
     },
     "metadata": {},
     "output_type": "display_data"
    }
   ],
   "source": [
    "# Code Here\n",
    "a = df_food[\"Deaths\"] * 50000\n",
    "plt.figure(figsize=(14,6))\n",
    "plt.scatter(x=\"Vegetal Products\",y=\"Confirmed\", c=\"Animal Products\", s=a,data=df_food,cmap=\"gist_yarg\")\n",
    "plt.title(\"Healthy Food and Covid-19\")\n",
    "plt.xlabel(\"Supply Vegetal Products\")\n",
    "plt.ylabel(\"Covid-19 case confirmed\")\n",
    "plt.colorbar()"
   ]
  },
  {
   "cell_type": "code",
   "execution_count": null,
   "metadata": {},
   "outputs": [],
   "source": []
  }
 ],
 "metadata": {
  "colab": {
   "collapsed_sections": [],
   "name": "Quiz-3 Minggu.ipynb",
   "provenance": []
  },
  "kernelspec": {
   "display_name": "Python 3",
   "language": "python",
   "name": "python3"
  },
  "language_info": {
   "codemirror_mode": {
    "name": "ipython",
    "version": 3
   },
   "file_extension": ".py",
   "mimetype": "text/x-python",
   "name": "python",
   "nbconvert_exporter": "python",
   "pygments_lexer": "ipython3",
   "version": "3.7.7"
  }
 },
 "nbformat": 4,
 "nbformat_minor": 1
}
