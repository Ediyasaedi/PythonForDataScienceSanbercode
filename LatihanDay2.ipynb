{
 "cells": [
  {
   "cell_type": "code",
   "execution_count": 2,
   "metadata": {},
   "outputs": [],
   "source": [
    "tinggi_badan = [\n",
    "                162, # index 0 \n",
    "                177, # index 1\n",
    "                182, # index 2\n",
    "                150, # index 3\n",
    "                166 # index 4\n",
    "                ]"
   ]
  },
  {
   "cell_type": "code",
   "execution_count": 3,
   "metadata": {},
   "outputs": [
    {
     "name": "stdout",
     "output_type": "stream",
     "text": [
      "162\n"
     ]
    }
   ],
   "source": [
    "print(tinggi_badan[0])"
   ]
  },
  {
   "cell_type": "code",
   "execution_count": 4,
   "metadata": {},
   "outputs": [
    {
     "name": "stdout",
     "output_type": "stream",
     "text": [
      "150\n"
     ]
    }
   ],
   "source": [
    "print(tinggi_badan[-2])"
   ]
  },
  {
   "cell_type": "code",
   "execution_count": 5,
   "metadata": {},
   "outputs": [
    {
     "name": "stdout",
     "output_type": "stream",
     "text": [
      "[162, 177, 182, 150]\n"
     ]
    }
   ],
   "source": [
    "print(tinggi_badan[:4])"
   ]
  },
  {
   "cell_type": "code",
   "execution_count": 6,
   "metadata": {},
   "outputs": [
    {
     "name": "stdout",
     "output_type": "stream",
     "text": [
      "[182, 150, 166]\n"
     ]
    }
   ],
   "source": [
    "print(tinggi_badan[2:5])"
   ]
  },
  {
   "cell_type": "code",
   "execution_count": 7,
   "metadata": {},
   "outputs": [],
   "source": [
    "# membuat list\n",
    "suhu_keluarga_ucup = [\n",
    "                'ayah ucup', 19, 'ucup', 19, 'ibu ucup', 20\n",
    "                ]\n",
    "suhu_keluarga_boy = [\n",
    "                'istri boy', 20, 'anak boy', 18, 'istri kedua boy', 21\n",
    "                ]\n",
    "\n",
    "# membuat list dalam list dan di campur dengan data boolean\n",
    "suhu_keluarga = [\n",
    "                suhu_keluarga_ucup, suhu_keluarga_boy \n",
    "                ]"
   ]
  },
  {
   "cell_type": "code",
   "execution_count": 8,
   "metadata": {},
   "outputs": [
    {
     "name": "stdout",
     "output_type": "stream",
     "text": [
      "['ayah ucup', 19, 'ucup', 22, 'ibu ucup', 20]\n"
     ]
    }
   ],
   "source": [
    "suhu_keluarga_ucup[3] = 22\n",
    "\n",
    "print(suhu_keluarga_ucup)"
   ]
  },
  {
   "cell_type": "code",
   "execution_count": 9,
   "metadata": {},
   "outputs": [
    {
     "name": "stdout",
     "output_type": "stream",
     "text": [
      "['ayah ucup', 19, 'ucup', 22, 'mamah ucup', 22]\n"
     ]
    }
   ],
   "source": [
    "suhu_keluarga_ucup[-2:] = ['mamah ucup', 22]\n",
    "print(suhu_keluarga_ucup)"
   ]
  },
  {
   "cell_type": "code",
   "execution_count": 10,
   "metadata": {},
   "outputs": [
    {
     "name": "stdout",
     "output_type": "stream",
     "text": [
      "['ayah ucup', 19, 'ucup', 22, 'mamah ucup', 22, 'adik ucup', 20]\n"
     ]
    }
   ],
   "source": [
    "suhu_keluarga_ucup = suhu_keluarga_ucup + ['adik ucup', 20]\n",
    "\n",
    "print(suhu_keluarga_ucup)"
   ]
  },
  {
   "cell_type": "code",
   "execution_count": 11,
   "metadata": {},
   "outputs": [],
   "source": [
    "del(suhu_keluarga_ucup[0])"
   ]
  },
  {
   "cell_type": "code",
   "execution_count": 12,
   "metadata": {},
   "outputs": [
    {
     "name": "stdout",
     "output_type": "stream",
     "text": [
      "19\n"
     ]
    }
   ],
   "source": [
    "print(suhu_keluarga_ucup[0])"
   ]
  },
  {
   "cell_type": "code",
   "execution_count": 13,
   "metadata": {},
   "outputs": [
    {
     "name": "stdout",
     "output_type": "stream",
     "text": [
      "5\n"
     ]
    }
   ],
   "source": [
    "keluarga_ucup = ['mamah', 'papah', 'ucup', 'adek ucup', 'kaka ucup']\n",
    "\n",
    "# berapa banyak anggota keluarga ucup\n",
    "print(len(keluarga_ucup))"
   ]
  },
  {
   "cell_type": "code",
   "execution_count": 14,
   "metadata": {},
   "outputs": [
    {
     "name": "stdout",
     "output_type": "stream",
     "text": [
      "['adek ucup', 'kaka ucup', 'mamah', 'papah', 'ucup']\n"
     ]
    }
   ],
   "source": [
    "print(sorted(keluarga_ucup))"
   ]
  },
  {
   "cell_type": "code",
   "execution_count": 15,
   "metadata": {},
   "outputs": [
    {
     "name": "stdout",
     "output_type": "stream",
     "text": [
      "17\n"
     ]
    }
   ],
   "source": [
    "primes = [2, 3, 5, 7]\n",
    "print(sum(primes))"
   ]
  },
  {
   "cell_type": "code",
   "execution_count": null,
   "metadata": {},
   "outputs": [],
   "source": []
  }
 ],
 "metadata": {
  "kernelspec": {
   "display_name": "Python 3",
   "language": "python",
   "name": "python3"
  },
  "language_info": {
   "codemirror_mode": {
    "name": "ipython",
    "version": 3
   },
   "file_extension": ".py",
   "mimetype": "text/x-python",
   "name": "python",
   "nbconvert_exporter": "python",
   "pygments_lexer": "ipython3",
   "version": "3.7.7"
  }
 },
 "nbformat": 4,
 "nbformat_minor": 4
}
